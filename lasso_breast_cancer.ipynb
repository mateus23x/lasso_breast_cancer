{
 "cells": [
  {
   "cell_type": "markdown",
   "id": "0d7bcdde",
   "metadata": {},
   "source": [
    "## What is Normalization?"
   ]
  },
  {
   "cell_type": "markdown",
   "id": "4c8c1eeb",
   "metadata": {},
   "source": [
    "The normalization $y$ of a vector $v$ is given by\n",
    "\n",
    "$$y = \\dfrac{v}{∥ v ∥}$$\n",
    "\n",
    "In L1 normalizations:\n",
    "\n",
    "$$ {∥v∥}_{1} = \\sum\\limits_{i=1}^{n} | v_{i} | $$\n",
    "\n",
    "\n",
    "The norm one of this vector is $ {∥y∥}_{1} = 1 $, and it has the same direction as the original vector $v$, meaning that $y$ is proportional to $v$."
   ]
  },
  {
   "cell_type": "markdown",
   "id": "241c7f38",
   "metadata": {},
   "source": [
    "## Lasso Regression"
   ]
  },
  {
   "cell_type": "markdown",
   "id": "805ab682",
   "metadata": {},
   "source": [
    "The lasso coefficients, $\\hat{\\beta} _{\\lambda}^{L}$ , minimize the following cost function:\n",
    "\n",
    "$$ \\sum_{i=1}^{n} \\left( y_{i} - \\beta_{0} - \\sum_{j=1}^{p} \\beta_{j} x_{ij} \\right) + \\lambda \\sum_{j=1}^{p} | \\beta_{j} | $$\n",
    "\n",
    "Where:\n",
    "\n",
    "$n$ - lenght of the data\n",
    "\n",
    "$p$ - number of $\\beta^{L}$ coeficients\n",
    "\n",
    "$\\lambda \\ge 0$ is a tuning parameter to increase the effect of the regularization L1 performed by $\\sum\\limits_{j=1}^{p} | \\beta_{j} |$\n",
    "\n",
    "Also:\n",
    "\n",
    "$\\lambda$ affects the speed and \"quality\" of the learning process.\n",
    "\n",
    "\n",
    "So, the Lasso Regression seeks coeficients $\\hat{\\beta} _{i}^{L}$ for all $i \\in \\mathbb{N}$ that makes the Residual Sum of Squares smaller, but considering the minimum sum of module of all $\\hat{\\beta} _{i}$.\n",
    "\n",
    "In this case, the penalty has the effect of forcing some of the coefficient estimates to be exactly equal to zero when the tuning parameter λ is sufficiently large. This results in an automatic feature selection, removing features that do not contribute much to the prediction task."
   ]
  },
  {
   "cell_type": "markdown",
   "id": "bdc28784",
   "metadata": {},
   "source": [
    "## Our problem"
   ]
  },
  {
   "cell_type": "markdown",
   "id": "7e1854ce",
   "metadata": {},
   "source": [
    "Breast cancer affects the lives of 2 million people annually in Brazil (source: Hospital Israelita A. Einstein). \n",
    "\n",
    "Early diagnosis can give better quality and save people's lives."
   ]
  },
  {
   "cell_type": "markdown",
   "id": "f95e6033",
   "metadata": {},
   "source": [
    "## Python Setup"
   ]
  },
  {
   "cell_type": "code",
   "execution_count": 1,
   "id": "3f4fbf5e",
   "metadata": {},
   "outputs": [],
   "source": [
    "# built-in\n",
    "import warnings\n",
    "\n",
    "# third-party\n",
    "import numpy as np\n",
    "import pandas as pd\n",
    "import sklearn.datasets\n",
    "from sklearn.model_selection import train_test_split\n",
    "from sklearn.linear_model import LogisticRegression\n",
    "from sklearn.model_selection import GridSearchCV\n",
    "from sklearn.model_selection import RepeatedKFold\n",
    "from sklearn.metrics import accuracy_score\n",
    "import matplotlib.pyplot as plt"
   ]
  },
  {
   "cell_type": "code",
   "execution_count": 2,
   "id": "c286b2ea",
   "metadata": {},
   "outputs": [],
   "source": [
    "warnings.filterwarnings(\"ignore\")"
   ]
  },
  {
   "cell_type": "markdown",
   "id": "fd45ea40",
   "metadata": {},
   "source": [
    "# The data"
   ]
  },
  {
   "cell_type": "markdown",
   "id": "04f4a83d",
   "metadata": {},
   "source": [
    "Loading data from sklearn datasets library:"
   ]
  },
  {
   "cell_type": "code",
   "execution_count": 3,
   "id": "64e355f1",
   "metadata": {},
   "outputs": [],
   "source": [
    "breast_cancer_dataset = sklearn.datasets.load_breast_cancer()"
   ]
  },
  {
   "cell_type": "code",
   "execution_count": 4,
   "id": "fccecd2f",
   "metadata": {},
   "outputs": [],
   "source": [
    "# splitting vectors\n",
    "X = pd.DataFrame(\n",
    "    breast_cancer_dataset.data,\n",
    "    columns=breast_cancer_dataset.feature_names\n",
    ")\n",
    "Y = pd.Series(breast_cancer_dataset.target, name=\"target\")"
   ]
  },
  {
   "cell_type": "markdown",
   "id": "bebc5639",
   "metadata": {},
   "source": [
    "We have 30 descriptive features.\n",
    "\n",
    "Some will contribute more to the results of the model, others less or not at all."
   ]
  },
  {
   "cell_type": "code",
   "execution_count": 5,
   "id": "99203e97",
   "metadata": {},
   "outputs": [
    {
     "name": "stdout",
     "output_type": "stream",
     "text": [
      "Features:  Index(['mean radius', 'mean texture', 'mean perimeter', 'mean area',\n",
      "       'mean smoothness', 'mean compactness', 'mean concavity',\n",
      "       'mean concave points', 'mean symmetry', 'mean fractal dimension',\n",
      "       'radius error', 'texture error', 'perimeter error', 'area error',\n",
      "       'smoothness error', 'compactness error', 'concavity error',\n",
      "       'concave points error', 'symmetry error', 'fractal dimension error',\n",
      "       'worst radius', 'worst texture', 'worst perimeter', 'worst area',\n",
      "       'worst smoothness', 'worst compactness', 'worst concavity',\n",
      "       'worst concave points', 'worst symmetry', 'worst fractal dimension'],\n",
      "      dtype='object')\n"
     ]
    }
   ],
   "source": [
    "data = pd.concat([X, Y], axis=1)\n",
    "print(\"Features: \", X.columns)"
   ]
  },
  {
   "cell_type": "code",
   "execution_count": 6,
   "id": "de0a3014",
   "metadata": {},
   "outputs": [],
   "source": [
    "# splitting data\n",
    "x_train, x_test, y_train, y_test = train_test_split(X, Y, test_size=0.2, random_state=123)"
   ]
  },
  {
   "cell_type": "markdown",
   "id": "c7ec7472",
   "metadata": {},
   "source": [
    "# The model"
   ]
  },
  {
   "cell_type": "code",
   "execution_count": 7,
   "id": "430ddbd3",
   "metadata": {},
   "outputs": [],
   "source": [
    "# defining the model and the evaluation method\n",
    "lasso_model = LogisticRegression(penalty=\"l1\", solver=\"liblinear\", max_iter=1000)\n",
    "cross_validation = RepeatedKFold(n_splits=10, n_repeats=3, random_state=321)"
   ]
  },
  {
   "cell_type": "markdown",
   "id": "f645cb89",
   "metadata": {},
   "source": [
    "## Hyperparameter Tuning"
   ]
  },
  {
   "cell_type": "code",
   "execution_count": 8,
   "id": "f24308c4",
   "metadata": {},
   "outputs": [],
   "source": [
    "# defining the Grid Search Cross Validation and passing the search parameters\n",
    "grid = {\"C\": np.arange(0.01, 1, 0.01)} # this parameter \"C\" is the ʎ\n",
    "search = GridSearchCV(\n",
    "    lasso_model,\n",
    "    grid,\n",
    "    scoring=\"neg_mean_absolute_error\",\n",
    "    cv=cross_validation,\n",
    "    n_jobs=-1\n",
    ")"
   ]
  },
  {
   "cell_type": "code",
   "execution_count": 9,
   "id": "dbdbe287",
   "metadata": {},
   "outputs": [
    {
     "data": {
      "text/html": [
       "<style>#sk-container-id-1 {color: black;background-color: white;}#sk-container-id-1 pre{padding: 0;}#sk-container-id-1 div.sk-toggleable {background-color: white;}#sk-container-id-1 label.sk-toggleable__label {cursor: pointer;display: block;width: 100%;margin-bottom: 0;padding: 0.3em;box-sizing: border-box;text-align: center;}#sk-container-id-1 label.sk-toggleable__label-arrow:before {content: \"▸\";float: left;margin-right: 0.25em;color: #696969;}#sk-container-id-1 label.sk-toggleable__label-arrow:hover:before {color: black;}#sk-container-id-1 div.sk-estimator:hover label.sk-toggleable__label-arrow:before {color: black;}#sk-container-id-1 div.sk-toggleable__content {max-height: 0;max-width: 0;overflow: hidden;text-align: left;background-color: #f0f8ff;}#sk-container-id-1 div.sk-toggleable__content pre {margin: 0.2em;color: black;border-radius: 0.25em;background-color: #f0f8ff;}#sk-container-id-1 input.sk-toggleable__control:checked~div.sk-toggleable__content {max-height: 200px;max-width: 100%;overflow: auto;}#sk-container-id-1 input.sk-toggleable__control:checked~label.sk-toggleable__label-arrow:before {content: \"▾\";}#sk-container-id-1 div.sk-estimator input.sk-toggleable__control:checked~label.sk-toggleable__label {background-color: #d4ebff;}#sk-container-id-1 div.sk-label input.sk-toggleable__control:checked~label.sk-toggleable__label {background-color: #d4ebff;}#sk-container-id-1 input.sk-hidden--visually {border: 0;clip: rect(1px 1px 1px 1px);clip: rect(1px, 1px, 1px, 1px);height: 1px;margin: -1px;overflow: hidden;padding: 0;position: absolute;width: 1px;}#sk-container-id-1 div.sk-estimator {font-family: monospace;background-color: #f0f8ff;border: 1px dotted black;border-radius: 0.25em;box-sizing: border-box;margin-bottom: 0.5em;}#sk-container-id-1 div.sk-estimator:hover {background-color: #d4ebff;}#sk-container-id-1 div.sk-parallel-item::after {content: \"\";width: 100%;border-bottom: 1px solid gray;flex-grow: 1;}#sk-container-id-1 div.sk-label:hover label.sk-toggleable__label {background-color: #d4ebff;}#sk-container-id-1 div.sk-serial::before {content: \"\";position: absolute;border-left: 1px solid gray;box-sizing: border-box;top: 0;bottom: 0;left: 50%;z-index: 0;}#sk-container-id-1 div.sk-serial {display: flex;flex-direction: column;align-items: center;background-color: white;padding-right: 0.2em;padding-left: 0.2em;position: relative;}#sk-container-id-1 div.sk-item {position: relative;z-index: 1;}#sk-container-id-1 div.sk-parallel {display: flex;align-items: stretch;justify-content: center;background-color: white;position: relative;}#sk-container-id-1 div.sk-item::before, #sk-container-id-1 div.sk-parallel-item::before {content: \"\";position: absolute;border-left: 1px solid gray;box-sizing: border-box;top: 0;bottom: 0;left: 50%;z-index: -1;}#sk-container-id-1 div.sk-parallel-item {display: flex;flex-direction: column;z-index: 1;position: relative;background-color: white;}#sk-container-id-1 div.sk-parallel-item:first-child::after {align-self: flex-end;width: 50%;}#sk-container-id-1 div.sk-parallel-item:last-child::after {align-self: flex-start;width: 50%;}#sk-container-id-1 div.sk-parallel-item:only-child::after {width: 0;}#sk-container-id-1 div.sk-dashed-wrapped {border: 1px dashed gray;margin: 0 0.4em 0.5em 0.4em;box-sizing: border-box;padding-bottom: 0.4em;background-color: white;}#sk-container-id-1 div.sk-label label {font-family: monospace;font-weight: bold;display: inline-block;line-height: 1.2em;}#sk-container-id-1 div.sk-label-container {text-align: center;}#sk-container-id-1 div.sk-container {/* jupyter's `normalize.less` sets `[hidden] { display: none; }` but bootstrap.min.css set `[hidden] { display: none !important; }` so we also need the `!important` here to be able to override the default hidden behavior on the sphinx rendered scikit-learn.org. See: https://github.com/scikit-learn/scikit-learn/issues/21755 */display: inline-block !important;position: relative;}#sk-container-id-1 div.sk-text-repr-fallback {display: none;}</style><div id=\"sk-container-id-1\" class=\"sk-top-container\"><div class=\"sk-text-repr-fallback\"><pre>LogisticRegression(max_iter=1000, penalty=&#x27;l1&#x27;, solver=&#x27;liblinear&#x27;)</pre><b>In a Jupyter environment, please rerun this cell to show the HTML representation or trust the notebook. <br />On GitHub, the HTML representation is unable to render, please try loading this page with nbviewer.org.</b></div><div class=\"sk-container\" hidden><div class=\"sk-item\"><div class=\"sk-estimator sk-toggleable\"><input class=\"sk-toggleable__control sk-hidden--visually\" id=\"sk-estimator-id-1\" type=\"checkbox\" checked><label for=\"sk-estimator-id-1\" class=\"sk-toggleable__label sk-toggleable__label-arrow\">LogisticRegression</label><div class=\"sk-toggleable__content\"><pre>LogisticRegression(max_iter=1000, penalty=&#x27;l1&#x27;, solver=&#x27;liblinear&#x27;)</pre></div></div></div></div></div>"
      ],
      "text/plain": [
       "LogisticRegression(max_iter=1000, penalty='l1', solver='liblinear')"
      ]
     },
     "execution_count": 9,
     "metadata": {},
     "output_type": "execute_result"
    }
   ],
   "source": [
    "# tunning the Lasso Regression model hiperparameters with Grid Search Cross Validation\n",
    "results = search.fit(x_train, y_train)\n",
    "lasso_model.fit(x_train, y_train)"
   ]
  },
  {
   "cell_type": "code",
   "execution_count": 10,
   "id": "80c262ca",
   "metadata": {},
   "outputs": [
    {
     "name": "stdout",
     "output_type": "stream",
     "text": [
      "MAE = -0.0513\n",
      "The optimum ʎ = 0.9\n"
     ]
    }
   ],
   "source": [
    "print(\"MAE = %s\" % round(results.best_score_, 5))\n",
    "print(\"The optimum ʎ =\", results.best_params_[\"C\"])"
   ]
  },
  {
   "cell_type": "markdown",
   "id": "f54cdcec",
   "metadata": {},
   "source": [
    "## Feature selection"
   ]
  },
  {
   "cell_type": "markdown",
   "id": "5bf87418",
   "metadata": {},
   "source": [
    "As we can see below, some of the coefficients are now zero.\n",
    "\n",
    "Keeping these features increases generalism but reduces the model accuracy."
   ]
  },
  {
   "cell_type": "code",
   "execution_count": 11,
   "id": "a29b887f",
   "metadata": {},
   "outputs": [
    {
     "data": {
      "text/plain": [
       "{'mean radius': 4.3709647723744816,\n",
       " 'mean texture': 0.13537840215857122,\n",
       " 'mean perimeter': -0.25790269053419024,\n",
       " 'mean area': -0.01583579744291656,\n",
       " 'mean smoothness': 0.0,\n",
       " 'mean compactness': 0.0,\n",
       " 'mean concavity': 0.0,\n",
       " 'mean concave points': 0.0,\n",
       " 'mean symmetry': 0.0,\n",
       " 'mean fractal dimension': 0.0,\n",
       " 'radius error': 0.0,\n",
       " 'texture error': 1.74890982969327,\n",
       " 'perimeter error': 0.0,\n",
       " 'area error': -0.0943892589732414,\n",
       " 'smoothness error': 0.0,\n",
       " 'compactness error': 0.0,\n",
       " 'concavity error': 0.0,\n",
       " 'concave points error': 0.0,\n",
       " 'symmetry error': 0.0,\n",
       " 'fractal dimension error': 0.0,\n",
       " 'worst radius': 0.0,\n",
       " 'worst texture': -0.38930985324454537,\n",
       " 'worst perimeter': -0.060549036816239174,\n",
       " 'worst area': -0.014416518854851793,\n",
       " 'worst smoothness': 0.0,\n",
       " 'worst compactness': 0.0,\n",
       " 'worst concavity': -3.5930329589942347,\n",
       " 'worst concave points': 0.0,\n",
       " 'worst symmetry': 0.0,\n",
       " 'worst fractal dimension': 0.0}"
      ]
     },
     "execution_count": 11,
     "metadata": {},
     "output_type": "execute_result"
    }
   ],
   "source": [
    "feature_importance = dict(zip(data.columns, lasso_model.coef_[0]))\n",
    "feature_importance"
   ]
  },
  {
   "cell_type": "code",
   "execution_count": 12,
   "id": "0a1a78e3",
   "metadata": {},
   "outputs": [
    {
     "name": "stdout",
     "output_type": "stream",
     "text": [
      "Selected features:  ['mean radius', 'mean texture', 'mean perimeter', 'mean area', 'texture error', 'area error', 'worst texture', 'worst perimeter', 'worst area', 'worst concavity']\n"
     ]
    }
   ],
   "source": [
    "selected_ = [k for k, v in feature_importance.items() if v != 0]\n",
    "print(\"Selected features: \", selected_)"
   ]
  },
  {
   "cell_type": "code",
   "execution_count": 13,
   "id": "c4fef1db",
   "metadata": {},
   "outputs": [],
   "source": [
    "x_train_selected = x_train[selected_]\n",
    "x_test_selected = x_test[selected_]"
   ]
  },
  {
   "cell_type": "markdown",
   "id": "fb0c11a7",
   "metadata": {},
   "source": [
    "## Fitting the model with the best hyperparameter and the selected features"
   ]
  },
  {
   "cell_type": "code",
   "execution_count": 14,
   "id": "88390d23",
   "metadata": {},
   "outputs": [],
   "source": [
    "lasso_model = LogisticRegression(\n",
    "    C=results.best_params_[\"C\"],\n",
    "    penalty=\"l1\",\n",
    "    solver=\"liblinear\",\n",
    "    max_iter=1000\n",
    ")"
   ]
  },
  {
   "cell_type": "code",
   "execution_count": 15,
   "id": "28d9a17e",
   "metadata": {},
   "outputs": [
    {
     "data": {
      "text/html": [
       "<style>#sk-container-id-2 {color: black;background-color: white;}#sk-container-id-2 pre{padding: 0;}#sk-container-id-2 div.sk-toggleable {background-color: white;}#sk-container-id-2 label.sk-toggleable__label {cursor: pointer;display: block;width: 100%;margin-bottom: 0;padding: 0.3em;box-sizing: border-box;text-align: center;}#sk-container-id-2 label.sk-toggleable__label-arrow:before {content: \"▸\";float: left;margin-right: 0.25em;color: #696969;}#sk-container-id-2 label.sk-toggleable__label-arrow:hover:before {color: black;}#sk-container-id-2 div.sk-estimator:hover label.sk-toggleable__label-arrow:before {color: black;}#sk-container-id-2 div.sk-toggleable__content {max-height: 0;max-width: 0;overflow: hidden;text-align: left;background-color: #f0f8ff;}#sk-container-id-2 div.sk-toggleable__content pre {margin: 0.2em;color: black;border-radius: 0.25em;background-color: #f0f8ff;}#sk-container-id-2 input.sk-toggleable__control:checked~div.sk-toggleable__content {max-height: 200px;max-width: 100%;overflow: auto;}#sk-container-id-2 input.sk-toggleable__control:checked~label.sk-toggleable__label-arrow:before {content: \"▾\";}#sk-container-id-2 div.sk-estimator input.sk-toggleable__control:checked~label.sk-toggleable__label {background-color: #d4ebff;}#sk-container-id-2 div.sk-label input.sk-toggleable__control:checked~label.sk-toggleable__label {background-color: #d4ebff;}#sk-container-id-2 input.sk-hidden--visually {border: 0;clip: rect(1px 1px 1px 1px);clip: rect(1px, 1px, 1px, 1px);height: 1px;margin: -1px;overflow: hidden;padding: 0;position: absolute;width: 1px;}#sk-container-id-2 div.sk-estimator {font-family: monospace;background-color: #f0f8ff;border: 1px dotted black;border-radius: 0.25em;box-sizing: border-box;margin-bottom: 0.5em;}#sk-container-id-2 div.sk-estimator:hover {background-color: #d4ebff;}#sk-container-id-2 div.sk-parallel-item::after {content: \"\";width: 100%;border-bottom: 1px solid gray;flex-grow: 1;}#sk-container-id-2 div.sk-label:hover label.sk-toggleable__label {background-color: #d4ebff;}#sk-container-id-2 div.sk-serial::before {content: \"\";position: absolute;border-left: 1px solid gray;box-sizing: border-box;top: 0;bottom: 0;left: 50%;z-index: 0;}#sk-container-id-2 div.sk-serial {display: flex;flex-direction: column;align-items: center;background-color: white;padding-right: 0.2em;padding-left: 0.2em;position: relative;}#sk-container-id-2 div.sk-item {position: relative;z-index: 1;}#sk-container-id-2 div.sk-parallel {display: flex;align-items: stretch;justify-content: center;background-color: white;position: relative;}#sk-container-id-2 div.sk-item::before, #sk-container-id-2 div.sk-parallel-item::before {content: \"\";position: absolute;border-left: 1px solid gray;box-sizing: border-box;top: 0;bottom: 0;left: 50%;z-index: -1;}#sk-container-id-2 div.sk-parallel-item {display: flex;flex-direction: column;z-index: 1;position: relative;background-color: white;}#sk-container-id-2 div.sk-parallel-item:first-child::after {align-self: flex-end;width: 50%;}#sk-container-id-2 div.sk-parallel-item:last-child::after {align-self: flex-start;width: 50%;}#sk-container-id-2 div.sk-parallel-item:only-child::after {width: 0;}#sk-container-id-2 div.sk-dashed-wrapped {border: 1px dashed gray;margin: 0 0.4em 0.5em 0.4em;box-sizing: border-box;padding-bottom: 0.4em;background-color: white;}#sk-container-id-2 div.sk-label label {font-family: monospace;font-weight: bold;display: inline-block;line-height: 1.2em;}#sk-container-id-2 div.sk-label-container {text-align: center;}#sk-container-id-2 div.sk-container {/* jupyter's `normalize.less` sets `[hidden] { display: none; }` but bootstrap.min.css set `[hidden] { display: none !important; }` so we also need the `!important` here to be able to override the default hidden behavior on the sphinx rendered scikit-learn.org. See: https://github.com/scikit-learn/scikit-learn/issues/21755 */display: inline-block !important;position: relative;}#sk-container-id-2 div.sk-text-repr-fallback {display: none;}</style><div id=\"sk-container-id-2\" class=\"sk-top-container\"><div class=\"sk-text-repr-fallback\"><pre>LogisticRegression(C=0.9, max_iter=1000, penalty=&#x27;l1&#x27;, solver=&#x27;liblinear&#x27;)</pre><b>In a Jupyter environment, please rerun this cell to show the HTML representation or trust the notebook. <br />On GitHub, the HTML representation is unable to render, please try loading this page with nbviewer.org.</b></div><div class=\"sk-container\" hidden><div class=\"sk-item\"><div class=\"sk-estimator sk-toggleable\"><input class=\"sk-toggleable__control sk-hidden--visually\" id=\"sk-estimator-id-2\" type=\"checkbox\" checked><label for=\"sk-estimator-id-2\" class=\"sk-toggleable__label sk-toggleable__label-arrow\">LogisticRegression</label><div class=\"sk-toggleable__content\"><pre>LogisticRegression(C=0.9, max_iter=1000, penalty=&#x27;l1&#x27;, solver=&#x27;liblinear&#x27;)</pre></div></div></div></div></div>"
      ],
      "text/plain": [
       "LogisticRegression(C=0.9, max_iter=1000, penalty='l1', solver='liblinear')"
      ]
     },
     "execution_count": 15,
     "metadata": {},
     "output_type": "execute_result"
    }
   ],
   "source": [
    "lasso_model.fit(x_train_selected, y_train)"
   ]
  },
  {
   "cell_type": "markdown",
   "id": "ca58ad53",
   "metadata": {},
   "source": [
    "## Making predictions and checking the model score"
   ]
  },
  {
   "cell_type": "code",
   "execution_count": 16,
   "id": "09a6c425",
   "metadata": {},
   "outputs": [
    {
     "name": "stdout",
     "output_type": "stream",
     "text": [
      "Accuracy on training data: 0.9538461538461539\n"
     ]
    }
   ],
   "source": [
    "print(\"Accuracy on training data:\", accuracy_score(lasso_model.predict(x_train_selected), y_train))"
   ]
  },
  {
   "cell_type": "code",
   "execution_count": 17,
   "id": "0cc373f2",
   "metadata": {},
   "outputs": [
    {
     "data": {
      "text/plain": [
       "0.9824561403508771"
      ]
     },
     "execution_count": 17,
     "metadata": {},
     "output_type": "execute_result"
    }
   ],
   "source": [
    "accuracy_score(lasso_model.predict(x_test_selected), y_test)"
   ]
  }
 ],
 "metadata": {
  "authors": [
   {
    "github": "github.com/mateus23x"
   }
  ],
  "kernelspec": {
   "display_name": "Python 3 (ipykernel)",
   "language": "python",
   "name": "python3"
  },
  "language_info": {
   "codemirror_mode": {
    "name": "ipython",
    "version": 3
   },
   "file_extension": ".py",
   "mimetype": "text/x-python",
   "name": "python",
   "nbconvert_exporter": "python",
   "pygments_lexer": "ipython3",
   "version": "3.8.10"
  },
  "vscode": {
   "interpreter": {
    "hash": "377e03043118c6be4a44199f885c1394c34bfc828e5ff93ac497e6bc25a98cf2"
   }
  }
 },
 "nbformat": 4,
 "nbformat_minor": 5
}
